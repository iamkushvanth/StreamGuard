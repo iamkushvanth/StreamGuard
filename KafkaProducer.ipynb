{
 "cells": [
  {
   "cell_type": "code",
   "execution_count": 1,
   "id": "bf546fd1",
   "metadata": {},
   "outputs": [],
   "source": [
    "#!pip install selenium kafka-python"
   ]
  },
  {
   "cell_type": "code",
   "execution_count": 2,
   "id": "cfb2c18c",
   "metadata": {},
   "outputs": [],
   "source": [
    "# producer.py\n",
    "from selenium import webdriver\n",
    "from kafka import KafkaProducer\n",
    "from selenium.webdriver.common.by import By\n",
    "import json\n",
    "import time\n",
    "import pandas as pd"
   ]
  },
  {
   "cell_type": "code",
   "execution_count": 3,
   "id": "1793bacc",
   "metadata": {},
   "outputs": [],
   "source": [
    "options = webdriver.ChromeOptions()\n",
    "options.add_argument('--headless')  # Run without GUI on VM\n",
    "driver = webdriver.Chrome(options=options)"
   ]
  },
  {
   "cell_type": "code",
   "execution_count": 4,
   "id": "2cf0f503",
   "metadata": {},
   "outputs": [],
   "source": [
    "domains = [\"https://watch.cricstream.me/t20-streams\", \"https://qatarstreams.me/schedule/sports-stream\", \"https://mainstreams.io/cricketstreams/live\", \"https://daddylivehd1.click\"]\n",
    "event_name = \"Sunrisers Hyderabad vs Gujarat Titans\""
   ]
  },
  {
   "cell_type": "code",
   "execution_count": 5,
   "id": "b09fba05",
   "metadata": {},
   "outputs": [],
   "source": [
    "producer = KafkaProducer(bootstrap_servers='20.83.172.165:9092', value_serializer=lambda v: json.dumps(v).encode('utf-8'))"
   ]
  },
  {
   "cell_type": "code",
   "execution_count": 6,
   "id": "76e805de",
   "metadata": {},
   "outputs": [],
   "source": [
    "\n",
    "for domain in domains:\n",
    "    try:\n",
    "        driver.get(domain)\n",
    "        time.sleep(2)\n",
    "        # Updated to use find_elements with By.TAG_NAME\n",
    "        links = [a.get_attribute('href') for a in driver.find_elements(By.TAG_NAME, 'a') \n",
    "                 if event_name.lower() in (a.get_attribute('href') or '').lower() or event_name.lower() in (a.text or '').lower()]\n",
    "        for link in links:\n",
    "            link_data = {\"domain\": domain, \"link\": link, \"timestamp\": time.strftime(\"%Y-%m-%dT%H:%M:%S\")}\n",
    "            producer.send('piracy-links', value=link_data)\n",
    "\n",
    "            driver.get(link)\n",
    "            time.sleep(2)\n",
    "            screenshot = f\"screenshot_{link.split('/')[-1]}.png\"\n",
    "            driver.save_screenshot(screenshot)\n",
    "            iframe = driver.find_element(By.TAG_NAME, 'iframe').get_attribute('src') if driver.find_elements(By.TAG_NAME, 'iframe') else \"N/A\"\n",
    "            evidence_data = {\"link\": link, \"screenshot\": screenshot, \"iframe\": iframe}\n",
    "            producer.send('piracy-evidence', value=evidence_data)\n",
    "    except Exception as e:\n",
    "        print(f\"Error accessing {domain}: {e}\")"
   ]
  },
  {
   "cell_type": "code",
   "execution_count": 7,
   "id": "bf24213e",
   "metadata": {},
   "outputs": [],
   "source": [
    "driver.quit()\n",
    "producer.flush()"
   ]
  },
  {
   "cell_type": "code",
   "execution_count": null,
   "id": "d138680b",
   "metadata": {},
   "outputs": [],
   "source": []
  }
 ],
 "metadata": {
  "kernelspec": {
   "display_name": "Python 3 (ipykernel)",
   "language": "python",
   "name": "python3"
  },
  "language_info": {
   "codemirror_mode": {
    "name": "ipython",
    "version": 3
   },
   "file_extension": ".py",
   "mimetype": "text/x-python",
   "name": "python",
   "nbconvert_exporter": "python",
   "pygments_lexer": "ipython3",
   "version": "3.11.5"
  }
 },
 "nbformat": 4,
 "nbformat_minor": 5
}
